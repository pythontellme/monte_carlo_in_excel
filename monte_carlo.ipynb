{
 "cells": [
  {
   "cell_type": "code",
   "execution_count": 13,
   "metadata": {},
   "outputs": [],
   "source": [
    "import xlwings as xw\n",
    "import numpy as np"
   ]
  },
  {
   "cell_type": "code",
   "execution_count": 14,
   "metadata": {},
   "outputs": [],
   "source": [
    "def scenarios(sht, mean, std, row, col, offset):\n",
    "    '''\n",
    "    Pre: sht = a specific excel workbook sheet\n",
    "         mean = the mean of a normal distribution\n",
    "         std = the standard deviation of a normal distribution\n",
    "         row = the starting row for output of calculations\n",
    "         col = the starting col for output of calculations\n",
    "         offset = the row offset for next output of calculations\n",
    "     Post: an output range in our excel sheet with\n",
    "           the calculations from distribution function\n",
    "    '''\n",
    "    dist = distribution(mean, std)\n",
    "    input_cell = 'b15'\n",
    "    output_cell = 'c2'\n",
    "    target_cell = 'c13'\n",
    "\n",
    "    for x in dist:\n",
    "        sht.range('b15').value = x\n",
    "        sht.range(row, col).value = int(sht.range('c12').value)\n",
    "        sht.range(row, col+1).value = int(sht.range('c2').value)\n",
    "        row += offset\n",
    "\n",
    "def distribution (mean, std):\n",
    "    '''\n",
    "    Pre: mean = the mean of a normal distribution\n",
    "         std = the standard deviation of a normal distribution\n",
    "    Post: an array containing elements of normal distribution\n",
    "    '''\n",
    "    dist = np.random.normal(mean, std, 100)\n",
    "    return dist\n",
    "\n",
    "def main():\n",
    "    app1 = xw.App(visible = False)    \n",
    "    wb = xw.Book('income_statement.xlsx')\n",
    "    sht = wb.sheets['Sheet1']\n",
    "    scenarios(sht, 0.1, 0.02, 2, 5, 1)"
   ]
  },
  {
   "cell_type": "code",
   "execution_count": 15,
   "metadata": {},
   "outputs": [],
   "source": [
    "main()"
   ]
  }
 ],
 "metadata": {
  "kernelspec": {
   "display_name": "Python 3",
   "language": "python",
   "name": "python3"
  },
  "language_info": {
   "codemirror_mode": {
    "name": "ipython",
    "version": 3
   },
   "file_extension": ".py",
   "mimetype": "text/x-python",
   "name": "python",
   "nbconvert_exporter": "python",
   "pygments_lexer": "ipython3",
   "version": "3.8.1"
  }
 },
 "nbformat": 4,
 "nbformat_minor": 4
}
